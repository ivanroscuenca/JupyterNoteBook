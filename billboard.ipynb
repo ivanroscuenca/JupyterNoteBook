{
 "cells": [
  {
   "cell_type": "markdown",
   "id": "a934e7b2-81d5-4fcb-b9f3-f33d622367c6",
   "metadata": {},
   "source": [
    "# Usamos beautifulsoup"
   ]
  },
  {
   "cell_type": "code",
   "execution_count": 1,
   "id": "3ee570b5-7069-4ed3-9638-51409e56c2e3",
   "metadata": {},
   "outputs": [],
   "source": [
    "import requests\n",
    "from bs4 import BeautifulSoup"
   ]
  },
  {
   "cell_type": "code",
   "execution_count": 5,
   "id": "5738995f-1f2b-49e6-acee-c643b86ec056",
   "metadata": {},
   "outputs": [
    {
     "name": "stdout",
     "output_type": "stream",
     "text": [
      "<Response [200]>\n"
     ]
    }
   ],
   "source": [
    "url = 'https://www.billboard.com/charts/billboard-200/'\n",
    "res = requests.get(url)\n",
    "print(res)"
   ]
  },
  {
   "cell_type": "markdown",
   "id": "3ae25ec8-01c6-442b-85e3-6bc8bd96bf1c",
   "metadata": {},
   "source": [
    "## Creamos el objeto soup"
   ]
  },
  {
   "cell_type": "code",
   "execution_count": 9,
   "id": "dacb9c12-6f27-45f5-8bff-319edd2456ad",
   "metadata": {},
   "outputs": [],
   "source": [
    "soup = BeautifulSoup(res.text,'lxml')"
   ]
  },
  {
   "cell_type": "code",
   "execution_count": 23,
   "id": "6b70bd52-c273-4377-99aa-13aa8577043e",
   "metadata": {},
   "outputs": [
    {
     "name": "stdout",
     "output_type": "stream",
     "text": [
      "['Beautifully Broken', 'Last Lap', 'Brat', \"Short n' Sweet\", 'Glorious', 'The Rise And Fall Of A Midwest Princess', 'Hit Me Hard And Soft', 'Take Care', 'One Thing At A Time', 'The Tortured Poets Department', 'F-1 Trillion', 'Stick Season', 'The Highlights', 'Mixtape Pluto', 'Dangerous: The Double Album', 'SOS', 'Incomodo', 'The Great American Bar Scene', 'The Secret Of Us', 'Zach Bryan']\n"
     ]
    }
   ],
   "source": [
    "songs = soup.select('li h3')\n",
    "top20 = [song.text[14:][0:-5] for song in songs[:20]]\n",
    "print(top20)"
   ]
  },
  {
   "cell_type": "code",
   "execution_count": 37,
   "id": "2b875f0c-ea95-471b-927a-4d2d50970fda",
   "metadata": {},
   "outputs": [
    {
     "name": "stdout",
     "output_type": "stream",
     "text": [
      "1) Beautifully Broken\n",
      "2) Last Lap\n",
      "3) Brat\n",
      "4) Short n' Sweet\n",
      "5) Glorious\n",
      "6) The Rise And Fall Of A Midwest Princess\n",
      "7) Hit Me Hard And Soft\n",
      "8) Take Care\n",
      "9) One Thing At A Time\n",
      "10) The Tortured Poets Department\n",
      "11) F-1 Trillion\n",
      "12) Stick Season\n",
      "13) The Highlights\n",
      "14) Mixtape Pluto\n",
      "15) Dangerous: The Double Album\n",
      "16) SOS\n",
      "17) Incomodo\n",
      "18) The Great American Bar Scene\n",
      "19) The Secret Of Us\n",
      "20) Zach Bryan\n"
     ]
    }
   ],
   "source": [
    "i = 0\n",
    "for song in top20:\n",
    "    i = i + 1\n",
    "    print(f\"{i}) {song}\")"
   ]
  },
  {
   "cell_type": "code",
   "execution_count": null,
   "id": "bd02dbaf-b5d8-4446-8e06-28edc08b7f0c",
   "metadata": {},
   "outputs": [],
   "source": []
  }
 ],
 "metadata": {
  "kernelspec": {
   "display_name": "Python 3 (ipykernel)",
   "language": "python",
   "name": "python3"
  },
  "language_info": {
   "codemirror_mode": {
    "name": "ipython",
    "version": 3
   },
   "file_extension": ".py",
   "mimetype": "text/x-python",
   "name": "python",
   "nbconvert_exporter": "python",
   "pygments_lexer": "ipython3",
   "version": "3.12.7"
  }
 },
 "nbformat": 4,
 "nbformat_minor": 5
}
